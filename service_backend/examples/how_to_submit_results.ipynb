{
 "cells": [
  {
   "cell_type": "markdown",
   "id": "486acef9-dd24-4a48-99d5-6e53e60a6f7c",
   "metadata": {},
   "source": [
    "### Create the environment\n",
    "To do so, we select an API endpoint and collect a token from our configuration. <br>\n",
    "We also need an access token, in this example we use [oidc-agent](https://github.com/indigo-dc/oidc-agent#:~:text=oidc%2Dagent%20is%20a%20set,session%20or%20a%20login%20session.) to get one. <br>"
   ]
  },
  {
   "cell_type": "code",
   "execution_count": null,
   "id": "df6fbc94-aff2-4de3-a4fa-8ceaa9f54e02",
   "metadata": {},
   "outputs": [],
   "source": [
    "eosc_perf_api=\"https://perf.test.fedcloud.eu/api/v1\"\n",
    "access_token=$(oidc-token egi-prod)"
   ]
  },
  {
   "cell_type": "markdown",
   "id": "7911381a-c922-45c4-b8e0-f7c1e2e7e99c",
   "metadata": {},
   "source": [
    "### (Conditional) Register, if not done already\n",
    "To use our service as user, first we need to accept the terms of usage and register. <br>\n",
    "Make sure to read the [terms and conditions](https://performance.services.fedcloud.eu/privacy_policy)."
   ]
  },
  {
   "cell_type": "code",
   "execution_count": null,
   "id": "9390c151-9268-4aa2-ab8b-1b55ff966380",
   "metadata": {},
   "outputs": [],
   "source": [
    "curl -X 'POST' \\\n",
    "  \"$eosc_perf_api/users:register\" \\\n",
    "  -H \"Authorization: Bearer $access_token\""
   ]
  },
  {
   "cell_type": "markdown",
   "id": "e039aa26-bb57-4880-9968-ae9ba53772b3",
   "metadata": {},
   "source": [
    "### Search for the benchmark id that produced our result\n",
    "You can get a list of all available benchmarks using GET /benchmarks\n",
    "> Benchmarks are public to the Internet, access token is not needed"
   ]
  },
  {
   "cell_type": "code",
   "execution_count": null,
   "id": "fa437e41-ad87-4aa4-b213-3f167c3db697",
   "metadata": {},
   "outputs": [],
   "source": [
    "benchmarks=$(curl -X 'GET' \"$eosc_perf_api/benchmarks?docker_image=deephdc/deep-oc-benchmarks_cnn&docker_tag=benchmark\")\n",
    "benchmark=$(echo $benchmarks | jq '.items[0]')\n",
    "echo $benchmark | jq '.json_schema = \"...\"'"
   ]
  },
  {
   "cell_type": "markdown",
   "id": "b44d62bc-e960-4c42-b8ad-db15b1d0ab91",
   "metadata": {},
   "source": [
    "### Search for the flavor id used to run our benchmark\n",
    "First you need to find the site where the benchmark was run. <br>\n",
    "Once the site id is collected, it is possible to access and select the site flavors. <br>\n",
    "> In this example we will use ':search' endpoint to find the flavor"
   ]
  },
  {
   "cell_type": "code",
   "execution_count": null,
   "id": "8326e84e-d386-4cbd-a143-3a0beeb8a3e2",
   "metadata": {},
   "outputs": [],
   "source": [
    "sites=$(curl -X 'GET' \"$eosc_perf_api/sites?name=ForHLR2\")\n",
    "site=$(echo $sites | jq '.items[0]')\n",
    "echo $site | jq"
   ]
  },
  {
   "cell_type": "code",
   "execution_count": null,
   "id": "0dade40a-bd7d-4ec4-9bb0-370b9b092f25",
   "metadata": {},
   "outputs": [],
   "source": [
    "site_id=$(echo $site | jq -r '.id')\n",
    "flavors=$(curl -X 'GET' \"$eosc_perf_api/sites/$site_id/flavors:search?terms=haicore-gpu8\")\n",
    "flavor=$(echo $flavors | jq '.items[0]')\n",
    "echo $flavor | jq"
   ]
  },
  {
   "cell_type": "markdown",
   "id": "8976ea30-f40d-4b29-accb-97dc824f452b",
   "metadata": {},
   "source": [
    "### Search for the tags to relate your result\n",
    "Collect the tags you want to link to your result so users can find it easily. <br>\n",
    "> If you do not know the name of the tag you can use :search as generic filter."
   ]
  },
  {
   "cell_type": "code",
   "execution_count": null,
   "id": "f7ea3d49-7147-4bca-bb33-e4196be0185b",
   "metadata": {},
   "outputs": [],
   "source": [
    "tag_gpu=$(curl -X 'GET' \"$eosc_perf_api/tags?name=gpu\" | jq '.items[0]')\n",
    "echo $tag_gpu | jq"
   ]
  },
  {
   "cell_type": "markdown",
   "id": "8587d96a-780c-4010-a72a-fac691d60e09",
   "metadata": {},
   "source": [
    "### Upload your result\n",
    "Use an execution datetime and the collected site_id and flavor_id to upload a result. <br>"
   ]
  },
  {
   "cell_type": "code",
   "execution_count": null,
   "id": "a660c97f-5c3d-4423-89ae-420d8bfc1805",
   "metadata": {},
   "outputs": [],
   "source": [
    "execution_datetime=\"2021-09-08T20:37:10.192459\"\n",
    "benchmark_id=$(echo $benchmark | jq -r '.id')\n",
    "flavor_id=$(echo $flavor | jq -r '.id')\n",
    "tag_gpu_id=$(echo $tag_gpu | jq -r '.id')\n",
    "result_json='{\"machine_config\": {\"cpu_info\": {\"num_cores\": 256, \"cpu_info\": \"AMD EPYC 7742 64-Core Processor\", \"mhz_per_cpu\": 3313.455}, \"gpu_info\": {\"count\": 8, \"model\": \"A100-SXM4-40GB\", \"memory\": 39420913408}, \"memory_total\": 1082004615168, \"memory_available\": 1061217103872}, \"benchmark\": {\"version\": \"0.6.0\", \"flavor\": \"dataset\", \"docker_base_image\": \"nvcr.io/nvidia/tensorflow:20.06-tf2-py3\", \"dataset\": \"imagenet_mini\", \"tf_version\": \"2.2.0\"}, \"training\": {\"allow_growth\": true, \"data_format\": \"NCHW\", \"device\": \"gpu\", \"local_parameter_device\": \"cpu\", \"models\": [\"googlenet\", \"inception3\", \"resnet50\", \"vgg16\"], \"num_gpus\": 4, \"optimizer\": \"sgd\", \"use_fp16\": false, \"variable_update\": \"parameter_server\", \"googlenet\": {\"batch_size\": 3840, \"batch_size_per_device\": 960, \"num_batches\": 100, \"num_epochs\": 0.0, \"average_examples_per_sec\": 4965.329768107184, \"execution_time_sec\": 76.60696387290955}, \"inception3\": {\"batch_size\": 960, \"batch_size_per_device\": 240, \"num_batches\": 100, \"num_epochs\": 0.0, \"average_examples_per_sec\": 1316.101905705066, \"execution_time_sec\": 72.25684809684753}, \"resnet50\": {\"batch_size\": 960, \"batch_size_per_device\": 240, \"num_batches\": 100, \"num_epochs\": 0.0, \"average_examples_per_sec\": 1607.2773590283105, \"execution_time_sec\": 59.14579105377197}, \"vgg16\": {\"batch_size\": 640, \"batch_size_per_device\": 160, \"num_batches\": 100, \"num_epochs\": 0.0, \"average_examples_per_sec\": 642.5885371362209, \"execution_time_sec\": 98.82184600830078}, \"score\": 8531.297569976781}, \"global_start_time\": \"2021-02-23T12:19:07.650951Z\", \"global_end_time\": \"2021-02-23T12:26:49.507629Z\", \"global_execution_time_sec\": 461.8566780090332}'"
   ]
  },
  {
   "cell_type": "code",
   "execution_count": null,
   "id": "1b2301a2-b2e0-4150-90f6-5405f2714dd3",
   "metadata": {},
   "outputs": [],
   "source": [
    "query=\"execution_datetime=$execution_datetime&benchmark_id=$benchmark_id&flavor_id=$flavor_id&tags_ids=$tag_gpu_id\"\n",
    "curl -X 'POST' \"$eosc_perf_api/results?$query\" \\\n",
    "  -H 'accept: application/json' \\\n",
    "  -H \"Authorization: Bearer $access_token\" \\\n",
    "  -H 'Content-Type: application/json' \\\n",
    "  -d \"$result_json\" | jq"
   ]
  }
 ],
 "metadata": {
  "kernelspec": {
   "display_name": "Bash",
   "language": "bash",
   "name": "bash"
  },
  "language_info": {
   "codemirror_mode": "shell",
   "file_extension": ".sh",
   "mimetype": "text/x-sh",
   "name": "bash"
  },
  "toc-autonumbering": false,
  "toc-showcode": false
 },
 "nbformat": 4,
 "nbformat_minor": 5
}
