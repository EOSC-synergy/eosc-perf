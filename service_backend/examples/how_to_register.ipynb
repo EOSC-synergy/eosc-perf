{
 "cells": [
  {
   "cell_type": "markdown",
   "id": "bb218523-20fe-46c2-b7ec-74bbb3c6cdd2",
   "metadata": {
    "tags": []
   },
   "source": [
    "### Create the environment\n",
    "To do so, we select an API endpoint and collect a token from our configuration. <br>\n",
    "We also need an access token, in this example we use [oidc-agent](https://github.com/indigo-dc/oidc-agent#:~:text=oidc%2Dagent%20is%20a%20set,session%20or%20a%20login%20session.) to get one. <br>"
   ]
  },
  {
   "cell_type": "code",
   "execution_count": null,
   "id": "70b64852-fe8e-4f10-91eb-fcfa37c05391",
   "metadata": {},
   "outputs": [],
   "source": [
    "eosc_perf_api=\"https://perf.test.fedcloud.eu/api/v1/\"\n",
    "access_token=$(oidc-token egi-prod)"
   ]
  },
  {
   "cell_type": "markdown",
   "id": "98959876-0345-45ed-a828-aaa768dd7132",
   "metadata": {},
   "source": [
    "### Read the terms and conditions\n",
    "To use our service as user, first we need to accept the terms of usage and privacy_policy"
   ]
  },
  {
   "cell_type": "code",
   "execution_count": null,
   "id": "eed7bd3e-3bbb-4384-a2c6-dbd109cc537a",
   "metadata": {},
   "outputs": [],
   "source": [
    "xdg-open https://performance.services.fedcloud.eu/privacy_policy"
   ]
  },
  {
   "cell_type": "markdown",
   "id": "11a627a0-9002-4f07-84bf-f0f3c66865d0",
   "metadata": {},
   "source": [
    "### Call the registration endpoint with our token\n",
    "To use our service as user, first we need to accept the terms of usage and privacy_policy\n",
    "> Receive 409 means the user is already in the system"
   ]
  },
  {
   "cell_type": "code",
   "execution_count": null,
   "id": "93ce9d65-25da-4612-a6a4-486b60e317f5",
   "metadata": {},
   "outputs": [],
   "source": [
    "curl -X 'POST' \\\n",
    "  \"$eosc_perf_api/users:register\" \\\n",
    "  -H \"Authorization: Bearer $access_token\""
   ]
  },
  {
   "cell_type": "markdown",
   "id": "7606f872-d123-4186-92a7-094276fbbd40",
   "metadata": {},
   "source": [
    "### Retrieve stored data\n",
    "Optionally, it is possible to retrieve the stored data simply colling the /user/self endpoint. <br>\n",
    "It is neccessary to pass the access token so the system can identify us."
   ]
  },
  {
   "cell_type": "code",
   "execution_count": null,
   "id": "c1c1bc37-798c-4033-8dc2-fe5ff9ef7a21",
   "metadata": {},
   "outputs": [],
   "source": [
    "curl -X 'GET' \\\n",
    "  \"$eosc_perf_api/users/self\" \\\n",
    "  -H \"Authorization: Bearer $access_token\""
   ]
  }
 ],
 "metadata": {
  "kernelspec": {
   "display_name": "Bash",
   "language": "bash",
   "name": "bash"
  },
  "language_info": {
   "codemirror_mode": "shell",
   "file_extension": ".sh",
   "mimetype": "text/x-sh",
   "name": "bash"
  }
 },
 "nbformat": 4,
 "nbformat_minor": 5
}
